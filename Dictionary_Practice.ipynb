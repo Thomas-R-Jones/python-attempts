{
 "cells": [
  {
   "cell_type": "code",
   "execution_count": null,
   "id": "152391e9-c73e-4699-bf23-08afb40b11b7",
   "metadata": {},
   "outputs": [],
   "source": [
    "mycat = []\n",
    "\n",
    "cat = {}"
   ]
  },
  {
   "cell_type": "code",
   "execution_count": null,
   "id": "123b8716-bf1b-45ec-b4ef-d776896d062b",
   "metadata": {},
   "outputs": [],
   "source": [
    "mycat.append('0')"
   ]
  },
  {
   "cell_type": "code",
   "execution_count": null,
   "id": "82454bad-8971-4623-9339-b1c755816742",
   "metadata": {},
   "outputs": [],
   "source": [
    "mycat"
   ]
  },
  {
   "cell_type": "code",
   "execution_count": null,
   "id": "9eeaad63-ddbd-4e87-b297-4a291532c1c8",
   "metadata": {},
   "outputs": [],
   "source": [
    "['0']"
   ]
  },
  {
   "cell_type": "code",
   "execution_count": null,
   "id": "d4366f03-83fb-4756-91e7-e9baec50e7ac",
   "metadata": {},
   "outputs": [],
   "source": [
    "mycat.append('1')"
   ]
  },
  {
   "cell_type": "code",
   "execution_count": null,
   "id": "38b288a7-d42e-4368-ac86-6247975b85cf",
   "metadata": {},
   "outputs": [],
   "source": [
    "mycat"
   ]
  },
  {
   "cell_type": "code",
   "execution_count": null,
   "id": "2fbb7675-6d92-4aa3-a9e9-c7ecf8451c89",
   "metadata": {},
   "outputs": [],
   "source": [
    "['0', '1']"
   ]
  },
  {
   "cell_type": "code",
   "execution_count": null,
   "id": "f51be4c2-8f7a-42e1-97bc-07ed64d244c2",
   "metadata": {},
   "outputs": [],
   "source": [
    "mycat[1]"
   ]
  },
  {
   "cell_type": "code",
   "execution_count": null,
   "id": "b3053f59-61da-4eae-9878-1c2e556ce0a6",
   "metadata": {},
   "outputs": [],
   "source": [
    "'1'"
   ]
  },
  {
   "cell_type": "code",
   "execution_count": null,
   "id": "b8e92c39-13ba-4805-b90a-849c9ddbb570",
   "metadata": {},
   "outputs": [],
   "source": [
    "cat['key_value1'] = 100"
   ]
  },
  {
   "cell_type": "code",
   "execution_count": null,
   "id": "d9c3edb9-bac6-4fda-b636-25aa833dd1b6",
   "metadata": {},
   "outputs": [],
   "source": [
    "100"
   ]
  },
  {
   "cell_type": "code",
   "execution_count": 1,
   "id": "6a605299-616b-4270-8e6a-2c3600ff390a",
   "metadata": {},
   "outputs": [
    {
     "ename": "NameError",
     "evalue": "name 'cat' is not defined",
     "output_type": "error",
     "traceback": [
      "\u001b[1;31m---------------------------------------------------------------------------\u001b[0m",
      "\u001b[1;31mNameError\u001b[0m                                 Traceback (most recent call last)",
      "Cell \u001b[1;32mIn[1], line 1\u001b[0m\n\u001b[1;32m----> 1\u001b[0m cat[\u001b[38;5;241m0\u001b[39m]\n",
      "\u001b[1;31mNameError\u001b[0m: name 'cat' is not defined"
     ]
    }
   ],
   "source": [
    "cat[0]"
   ]
  },
  {
   "cell_type": "code",
   "execution_count": 9,
   "id": "6fd958fe-ca7e-412f-8670-7f4a56569e62",
   "metadata": {},
   "outputs": [],
   "source": [
    "b = {'Alice': 'Apr 1', 'Bob': 'Dec 12', 'Carol': 'Mar 4'}"
   ]
  },
  {
   "cell_type": "code",
   "execution_count": 11,
   "id": "aee88005-090f-4b48-9ff1-ea0f2226c1fc",
   "metadata": {},
   "outputs": [
    {
     "name": "stdout",
     "output_type": "stream",
     "text": [
      "Enter the name that you want : (blank to equit)\n"
     ]
    },
    {
     "name": "stdin",
     "output_type": "stream",
     "text": [
      " Bob\n"
     ]
    },
    {
     "name": "stdout",
     "output_type": "stream",
     "text": [
      "Dec 12 is birthday ofBob\n",
      "Enter the name that you want : (blank to equit)\n"
     ]
    },
    {
     "ename": "KeyboardInterrupt",
     "evalue": "Interrupted by user",
     "output_type": "error",
     "traceback": [
      "\u001b[1;31m---------------------------------------------------------------------------\u001b[0m",
      "\u001b[1;31mKeyboardInterrupt\u001b[0m                         Traceback (most recent call last)",
      "Cell \u001b[1;32mIn[11], line 3\u001b[0m\n\u001b[0;32m      1\u001b[0m \u001b[38;5;28;01mwhile\u001b[39;00m \u001b[38;5;28;01mTrue\u001b[39;00m:\n\u001b[0;32m      2\u001b[0m     \u001b[38;5;28mprint\u001b[39m(\u001b[38;5;124m\"\u001b[39m\u001b[38;5;124mEnter the name that you want : (blank to equit)\u001b[39m\u001b[38;5;124m\"\u001b[39m)\n\u001b[1;32m----> 3\u001b[0m     name \u001b[38;5;241m=\u001b[39m \u001b[38;5;28minput\u001b[39m()\n\u001b[0;32m      4\u001b[0m     \u001b[38;5;28;01mif\u001b[39;00m name \u001b[38;5;241m==\u001b[39m\u001b[38;5;124m'\u001b[39m\u001b[38;5;124m'\u001b[39m:\n\u001b[0;32m      5\u001b[0m         \u001b[38;5;28;01mbreak\u001b[39;00m\n",
      "File \u001b[1;32m~\\anaconda3\\Lib\\site-packages\\ipykernel\\kernelbase.py:1262\u001b[0m, in \u001b[0;36mKernel.raw_input\u001b[1;34m(self, prompt)\u001b[0m\n\u001b[0;32m   1260\u001b[0m     msg \u001b[38;5;241m=\u001b[39m \u001b[38;5;124m\"\u001b[39m\u001b[38;5;124mraw_input was called, but this frontend does not support input requests.\u001b[39m\u001b[38;5;124m\"\u001b[39m\n\u001b[0;32m   1261\u001b[0m     \u001b[38;5;28;01mraise\u001b[39;00m StdinNotImplementedError(msg)\n\u001b[1;32m-> 1262\u001b[0m \u001b[38;5;28;01mreturn\u001b[39;00m \u001b[38;5;28mself\u001b[39m\u001b[38;5;241m.\u001b[39m_input_request(\n\u001b[0;32m   1263\u001b[0m     \u001b[38;5;28mstr\u001b[39m(prompt),\n\u001b[0;32m   1264\u001b[0m     \u001b[38;5;28mself\u001b[39m\u001b[38;5;241m.\u001b[39m_parent_ident[\u001b[38;5;124m\"\u001b[39m\u001b[38;5;124mshell\u001b[39m\u001b[38;5;124m\"\u001b[39m],\n\u001b[0;32m   1265\u001b[0m     \u001b[38;5;28mself\u001b[39m\u001b[38;5;241m.\u001b[39mget_parent(\u001b[38;5;124m\"\u001b[39m\u001b[38;5;124mshell\u001b[39m\u001b[38;5;124m\"\u001b[39m),\n\u001b[0;32m   1266\u001b[0m     password\u001b[38;5;241m=\u001b[39m\u001b[38;5;28;01mFalse\u001b[39;00m,\n\u001b[0;32m   1267\u001b[0m )\n",
      "File \u001b[1;32m~\\anaconda3\\Lib\\site-packages\\ipykernel\\kernelbase.py:1305\u001b[0m, in \u001b[0;36mKernel._input_request\u001b[1;34m(self, prompt, ident, parent, password)\u001b[0m\n\u001b[0;32m   1302\u001b[0m \u001b[38;5;28;01mexcept\u001b[39;00m \u001b[38;5;167;01mKeyboardInterrupt\u001b[39;00m:\n\u001b[0;32m   1303\u001b[0m     \u001b[38;5;66;03m# re-raise KeyboardInterrupt, to truncate traceback\u001b[39;00m\n\u001b[0;32m   1304\u001b[0m     msg \u001b[38;5;241m=\u001b[39m \u001b[38;5;124m\"\u001b[39m\u001b[38;5;124mInterrupted by user\u001b[39m\u001b[38;5;124m\"\u001b[39m\n\u001b[1;32m-> 1305\u001b[0m     \u001b[38;5;28;01mraise\u001b[39;00m \u001b[38;5;167;01mKeyboardInterrupt\u001b[39;00m(msg) \u001b[38;5;28;01mfrom\u001b[39;00m \u001b[38;5;28;01mNone\u001b[39;00m\n\u001b[0;32m   1306\u001b[0m \u001b[38;5;28;01mexcept\u001b[39;00m \u001b[38;5;167;01mException\u001b[39;00m:\n\u001b[0;32m   1307\u001b[0m     \u001b[38;5;28mself\u001b[39m\u001b[38;5;241m.\u001b[39mlog\u001b[38;5;241m.\u001b[39mwarning(\u001b[38;5;124m\"\u001b[39m\u001b[38;5;124mInvalid Message:\u001b[39m\u001b[38;5;124m\"\u001b[39m, exc_info\u001b[38;5;241m=\u001b[39m\u001b[38;5;28;01mTrue\u001b[39;00m)\n",
      "\u001b[1;31mKeyboardInterrupt\u001b[0m: Interrupted by user"
     ]
    }
   ],
   "source": [
    "while True:\n",
    "    print(\"Enter the name that you want : (blank to equit)\")\n",
    "    name = input()\n",
    "    if name =='':\n",
    "        break\n",
    "\n",
    "    if name in b:\n",
    "        print(b[name] + ' is birthday of' + name)\n",
    "    else:\n",
    "        print('Your name is not in the dictionary')\n",
    "        print('What is your birthday?')\n",
    "        day = inout()\n",
    "        b[name] = day\n",
    "        print('Dictionary is updated')"
   ]
  },
  {
   "cell_type": "code",
   "execution_count": 13,
   "id": "dd3f3dd6-54ef-4643-a798-5a7d6445ec7d",
   "metadata": {},
   "outputs": [
    {
     "name": "stdout",
     "output_type": "stream",
     "text": [
      "{'i': 1, 't': 1, ' ': 1, 'w': 1, 'a': 1, 's': 1}\n"
     ]
    }
   ],
   "source": [
    "message = 'it was'\n",
    "\n",
    "count = {}\n",
    "\n",
    "for character in message:\n",
    "    count.setdefault(character, 0)\n",
    "    count[character] = count[character] + 1\n",
    "\n",
    "print(count)"
   ]
  },
  {
   "cell_type": "code",
   "execution_count": null,
   "id": "4cb67f93-6fc8-46b6-8c51-8e5dbaf70339",
   "metadata": {},
   "outputs": [],
   "source": []
  }
 ],
 "metadata": {
  "kernelspec": {
   "display_name": "Python [conda env:base] *",
   "language": "python",
   "name": "conda-base-py"
  },
  "language_info": {
   "codemirror_mode": {
    "name": "ipython",
    "version": 3
   },
   "file_extension": ".py",
   "mimetype": "text/x-python",
   "name": "python",
   "nbconvert_exporter": "python",
   "pygments_lexer": "ipython3",
   "version": "3.12.7"
  }
 },
 "nbformat": 4,
 "nbformat_minor": 5
}
