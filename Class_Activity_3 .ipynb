{
 "cells": [
  {
   "cell_type": "code",
   "execution_count": 8,
   "id": "194671b0-e55a-4ab0-b464-8903213ef0d0",
   "metadata": {},
   "outputs": [
    {
     "name": "stderr",
     "output_type": "stream",
     "text": [
      "ERROR: Could not find a version that satisfies the requirement random (from versions: none)\n",
      "ERROR: No matching distribution found for random\n"
     ]
    }
   ],
   "source": [
    "!pip install random"
   ]
  },
  {
   "cell_type": "code",
   "execution_count": 3,
   "id": "de61d9f5-4321-45f0-8fba-3b7acf301410",
   "metadata": {},
   "outputs": [],
   "source": [
    "import random"
   ]
  },
  {
   "cell_type": "code",
   "execution_count": 6,
   "id": "7c0fe026-0a69-4d03-b27f-33f403fad68b",
   "metadata": {
    "panel-layout": {
     "height": 0,
     "visible": true,
     "width": 100
    }
   },
   "outputs": [
    {
     "ename": "NameError",
     "evalue": "name 'random' is not defined",
     "output_type": "error",
     "traceback": [
      "\u001b[1;31m---------------------------------------------------------------------------\u001b[0m",
      "\u001b[1;31mNameError\u001b[0m                                 Traceback (most recent call last)",
      "Cell \u001b[1;32mIn[6], line 1\u001b[0m\n\u001b[1;32m----> 1\u001b[0m guessnumber \u001b[38;5;241m=\u001b[39m random\u001b[38;5;241m.\u001b[39mrandint(\u001b[38;5;241m1\u001b[39m,\u001b[38;5;241m40\u001b[39m)\n\u001b[0;32m      2\u001b[0m \u001b[38;5;28mprint\u001b[39m(\u001b[38;5;124m'\u001b[39m\u001b[38;5;124mI am thinnking of a number between 1 and 40\u001b[39m\u001b[38;5;124m'\u001b[39m)\n",
      "\u001b[1;31mNameError\u001b[0m: name 'random' is not defined"
     ]
    }
   ],
   "source": [
    "guessnumber = random.randint(1,40)\n",
    "print('I am thinnking of a number between 1 and 40')"
   ]
  },
  {
   "cell_type": "code",
   "execution_count": 1,
   "id": "1f28b397-6740-461c-ad6e-05f27a6dd45d",
   "metadata": {},
   "outputs": [
    {
     "name": "stdout",
     "output_type": "stream",
     "text": [
      "take a guess\n"
     ]
    },
    {
     "name": "stdin",
     "output_type": "stream",
     "text": [
      " 35\n"
     ]
    },
    {
     "ename": "NameError",
     "evalue": "name 'guessnumber' is not defined",
     "output_type": "error",
     "traceback": [
      "\u001b[1;31m---------------------------------------------------------------------------\u001b[0m",
      "\u001b[1;31mNameError\u001b[0m                                 Traceback (most recent call last)",
      "Cell \u001b[1;32mIn[1], line 5\u001b[0m\n\u001b[0;32m      2\u001b[0m \u001b[38;5;28mprint\u001b[39m(\u001b[38;5;124m'\u001b[39m\u001b[38;5;124mtake a guess\u001b[39m\u001b[38;5;124m'\u001b[39m)\n\u001b[0;32m      3\u001b[0m yourguess \u001b[38;5;241m=\u001b[39m \u001b[38;5;28mint\u001b[39m(\u001b[38;5;28minput\u001b[39m())\n\u001b[1;32m----> 5\u001b[0m \u001b[38;5;28;01mif\u001b[39;00m yourguess \u001b[38;5;241m<\u001b[39m guessnumber:\n\u001b[0;32m      6\u001b[0m     \u001b[38;5;28mprint\u001b[39m(\u001b[38;5;124m'\u001b[39m\u001b[38;5;124mYour guess is too low\u001b[39m\u001b[38;5;124m'\u001b[39m)\n\u001b[0;32m      7\u001b[0m \u001b[38;5;28;01melif\u001b[39;00m yourguess \u001b[38;5;241m>\u001b[39m guessnumber:\n",
      "\u001b[1;31mNameError\u001b[0m: name 'guessnumber' is not defined"
     ]
    }
   ],
   "source": [
    "for i in range(10):\n",
    "    print('take a guess')\n",
    "    yourguess = int(input())\n",
    "\n",
    "    if yourguess < guessnumber:\n",
    "        print('Your guess is too low')\n",
    "    elif yourguess > guessnumber:\n",
    "        print('Your guess is too high')\n",
    "    else:\n",
    "        break\n",
    "\n",
    "if yourguess == guessnumber:\n",
    "    print('You guessed my number in' + str(i) + 'guesses!')\n",
    "else:\n",
    "    print('No' + 'The number I was thinking of was' + str(guessnumber))"
   ]
  },
  {
   "cell_type": "code",
   "execution_count": null,
   "id": "1c233217-d57d-4001-bae3-6690785ec5e5",
   "metadata": {},
   "outputs": [],
   "source": []
  }
 ],
 "metadata": {
  "kernelspec": {
   "display_name": "Python [conda env:base] *",
   "language": "python",
   "name": "conda-base-py"
  },
  "language_info": {
   "codemirror_mode": {
    "name": "ipython",
    "version": 3
   },
   "file_extension": ".py",
   "mimetype": "text/x-python",
   "name": "python",
   "nbconvert_exporter": "python",
   "pygments_lexer": "ipython3",
   "version": "3.12.7"
  },
  "panel-cell-order": [
   "7c0fe026-0a69-4d03-b27f-33f403fad68b",
   "fb81618c-2e59-476f-9938-08adb05240de",
   "bca3435f-b6cb-474c-83c9-9003df5b3da6"
  ]
 },
 "nbformat": 4,
 "nbformat_minor": 5
}
