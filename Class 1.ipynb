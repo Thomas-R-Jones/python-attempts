{
 "cells": [
  {
   "cell_type": "code",
   "execution_count": 1,
   "id": "722efc27-ae41-4a8a-9691-497fc89b0636",
   "metadata": {},
   "outputs": [
    {
     "data": {
      "text/plain": [
       "2"
      ]
     },
     "execution_count": 1,
     "metadata": {},
     "output_type": "execute_result"
    }
   ],
   "source": [
    "app = 2\n",
    "app"
   ]
  },
  {
   "cell_type": "code",
   "execution_count": null,
   "id": "b2d17d65-94cb-4919-bfbc-8a489c823295",
   "metadata": {},
   "outputs": [],
   "source": []
  },
  {
   "cell_type": "code",
   "execution_count": 4,
   "id": "63ecc86d-4fba-4c18-aee4-29dc2b849c52",
   "metadata": {},
   "outputs": [
    {
     "data": {
      "text/plain": [
       "2"
      ]
     },
     "execution_count": 4,
     "metadata": {},
     "output_type": "execute_result"
    }
   ],
   "source": [
    "app"
   ]
  },
  {
   "cell_type": "code",
   "execution_count": 6,
   "id": "8b9ff5ab-727c-46f9-b341-569b2bd4352a",
   "metadata": {},
   "outputs": [
    {
     "ename": "NameError",
     "evalue": "name 'apps' is not defined",
     "output_type": "error",
     "traceback": [
      "\u001b[1;31m---------------------------------------------------------------------------\u001b[0m",
      "\u001b[1;31mNameError\u001b[0m                                 Traceback (most recent call last)",
      "Cell \u001b[1;32mIn[6], line 1\u001b[0m\n\u001b[1;32m----> 1\u001b[0m apps\n",
      "\u001b[1;31mNameError\u001b[0m: name 'apps' is not defined"
     ]
    }
   ],
   "source": [
    "apps"
   ]
  },
  {
   "cell_type": "code",
   "execution_count": 8,
   "id": "8590f660-26ae-4052-a2c5-41d200ee364f",
   "metadata": {},
   "outputs": [
    {
     "data": {
      "text/plain": [
       "'apps'"
      ]
     },
     "execution_count": 8,
     "metadata": {},
     "output_type": "execute_result"
    }
   ],
   "source": [
    "'apps'"
   ]
  },
  {
   "cell_type": "code",
   "execution_count": 10,
   "id": "91e5d210-679a-4666-b7f7-2abea3e6548d",
   "metadata": {},
   "outputs": [
    {
     "name": "stdout",
     "output_type": "stream",
     "text": [
      "4\n",
      "4\n",
      "4\n"
     ]
    }
   ],
   "source": [
    "print(2+2)\n",
    "print(2*2)\n",
    "print(2**2)"
   ]
  },
  {
   "cell_type": "code",
   "execution_count": null,
   "id": "170d577a-58f0-4a25-b4f3-5bdb0134afff",
   "metadata": {},
   "outputs": [
    {
     "name": "stdout",
     "output_type": "stream",
     "text": [
      "Hello, World !\n",
      "What is your name?\n"
     ]
    }
   ],
   "source": [
    "print(\"Hello, World !\")\n",
    "print(\"What is your name?\")\n",
    "myname = input()\n",
    "print(\"it is good to meet you, \" + myname)\n"
   ]
  },
  {
   "cell_type": "code",
   "execution_count": null,
   "id": "1052b845-28b0-44e5-852a-ad7d6179ab11",
   "metadata": {},
   "outputs": [],
   "source": []
  }
 ],
 "metadata": {
  "kernelspec": {
   "display_name": "Python [conda env:base] *",
   "language": "python",
   "name": "conda-base-py"
  },
  "language_info": {
   "codemirror_mode": {
    "name": "ipython",
    "version": 3
   },
   "file_extension": ".py",
   "mimetype": "text/x-python",
   "name": "python",
   "nbconvert_exporter": "python",
   "pygments_lexer": "ipython3",
   "version": "3.12.7"
  }
 },
 "nbformat": 4,
 "nbformat_minor": 5
}
