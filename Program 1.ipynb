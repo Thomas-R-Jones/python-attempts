{
 "cells": [
  {
   "cell_type": "code",
   "execution_count": 1,
   "id": "ec3e6b4f-0230-42fb-9e16-4bda850113bb",
   "metadata": {},
   "outputs": [
    {
     "name": "stdout",
     "output_type": "stream",
     "text": [
      "The game is Rock, Scissors, And Paper\n"
     ]
    }
   ],
   "source": [
    "import random, sys\n",
    "\n",
    "print(\"The game is Rock, Scissors, And Paper\")"
   ]
  },
  {
   "cell_type": "code",
   "execution_count": 3,
   "id": "9155b91f-4cae-4d37-9d9f-d51445d307d7",
   "metadata": {},
   "outputs": [],
   "source": [
    "wins = 0\n",
    "losses = 0\n",
    "ties = 0"
   ]
  },
  {
   "cell_type": "code",
   "execution_count": 17,
   "id": "126d3b23-3889-4e4d-9c5d-9e236bd749cd",
   "metadata": {},
   "outputs": [
    {
     "name": "stdout",
     "output_type": "stream",
     "text": [
      "how many times you wins2\n",
      "how many times you losses1\n",
      "how many times you ties3\n",
      "Enter your movement: (r)ock (p)aper (s)cissors or q is quit\n"
     ]
    },
    {
     "name": "stdin",
     "output_type": "stream",
     "text": [
      " p\n"
     ]
    },
    {
     "name": "stdout",
     "output_type": "stream",
     "text": [
      "You are good\n",
      "type one of r,p,s, or q\n",
      "Paper versus\n",
      "Tie\n",
      "how many times you wins2\n",
      "how many times you losses1\n",
      "how many times you ties4\n",
      "Enter your movement: (r)ock (p)aper (s)cissors or q is quit\n"
     ]
    },
    {
     "name": "stdin",
     "output_type": "stream",
     "text": [
      " r\n"
     ]
    },
    {
     "name": "stdout",
     "output_type": "stream",
     "text": [
      "You are good\n",
      "type one of r,p,s, or q\n",
      "Rock versus\n",
      "You win\n",
      "how many times you wins3\n",
      "how many times you losses1\n",
      "how many times you ties4\n",
      "Enter your movement: (r)ock (p)aper (s)cissors or q is quit\n"
     ]
    },
    {
     "ename": "KeyboardInterrupt",
     "evalue": "Interrupted by user",
     "output_type": "error",
     "traceback": [
      "\u001b[1;31m---------------------------------------------------------------------------\u001b[0m",
      "\u001b[1;31mKeyboardInterrupt\u001b[0m                         Traceback (most recent call last)",
      "Cell \u001b[1;32mIn[17], line 8\u001b[0m\n\u001b[0;32m      4\u001b[0m \u001b[38;5;28mprint\u001b[39m(\u001b[38;5;124m'\u001b[39m\u001b[38;5;124mhow many times you ties\u001b[39m\u001b[38;5;124m'\u001b[39m \u001b[38;5;241m+\u001b[39m\u001b[38;5;28mstr\u001b[39m(ties))\n\u001b[0;32m      7\u001b[0m \u001b[38;5;28mprint\u001b[39m(\u001b[38;5;124m\"\u001b[39m\u001b[38;5;124mEnter your movement: (r)ock (p)aper (s)cissors or q is quit\u001b[39m\u001b[38;5;124m\"\u001b[39m)\n\u001b[1;32m----> 8\u001b[0m yourmove \u001b[38;5;241m=\u001b[39m \u001b[38;5;28minput\u001b[39m()\n\u001b[0;32m      9\u001b[0m \u001b[38;5;28;01mif\u001b[39;00m yourmove \u001b[38;5;241m==\u001b[39m\u001b[38;5;124m'\u001b[39m\u001b[38;5;124mq\u001b[39m\u001b[38;5;124m'\u001b[39m:\n\u001b[0;32m     10\u001b[0m     sys\u001b[38;5;241m.\u001b[39mexit()\n",
      "File \u001b[1;32m~\\anaconda3\\Lib\\site-packages\\ipykernel\\kernelbase.py:1262\u001b[0m, in \u001b[0;36mKernel.raw_input\u001b[1;34m(self, prompt)\u001b[0m\n\u001b[0;32m   1260\u001b[0m     msg \u001b[38;5;241m=\u001b[39m \u001b[38;5;124m\"\u001b[39m\u001b[38;5;124mraw_input was called, but this frontend does not support input requests.\u001b[39m\u001b[38;5;124m\"\u001b[39m\n\u001b[0;32m   1261\u001b[0m     \u001b[38;5;28;01mraise\u001b[39;00m StdinNotImplementedError(msg)\n\u001b[1;32m-> 1262\u001b[0m \u001b[38;5;28;01mreturn\u001b[39;00m \u001b[38;5;28mself\u001b[39m\u001b[38;5;241m.\u001b[39m_input_request(\n\u001b[0;32m   1263\u001b[0m     \u001b[38;5;28mstr\u001b[39m(prompt),\n\u001b[0;32m   1264\u001b[0m     \u001b[38;5;28mself\u001b[39m\u001b[38;5;241m.\u001b[39m_parent_ident[\u001b[38;5;124m\"\u001b[39m\u001b[38;5;124mshell\u001b[39m\u001b[38;5;124m\"\u001b[39m],\n\u001b[0;32m   1265\u001b[0m     \u001b[38;5;28mself\u001b[39m\u001b[38;5;241m.\u001b[39mget_parent(\u001b[38;5;124m\"\u001b[39m\u001b[38;5;124mshell\u001b[39m\u001b[38;5;124m\"\u001b[39m),\n\u001b[0;32m   1266\u001b[0m     password\u001b[38;5;241m=\u001b[39m\u001b[38;5;28;01mFalse\u001b[39;00m,\n\u001b[0;32m   1267\u001b[0m )\n",
      "File \u001b[1;32m~\\anaconda3\\Lib\\site-packages\\ipykernel\\kernelbase.py:1305\u001b[0m, in \u001b[0;36mKernel._input_request\u001b[1;34m(self, prompt, ident, parent, password)\u001b[0m\n\u001b[0;32m   1302\u001b[0m \u001b[38;5;28;01mexcept\u001b[39;00m \u001b[38;5;167;01mKeyboardInterrupt\u001b[39;00m:\n\u001b[0;32m   1303\u001b[0m     \u001b[38;5;66;03m# re-raise KeyboardInterrupt, to truncate traceback\u001b[39;00m\n\u001b[0;32m   1304\u001b[0m     msg \u001b[38;5;241m=\u001b[39m \u001b[38;5;124m\"\u001b[39m\u001b[38;5;124mInterrupted by user\u001b[39m\u001b[38;5;124m\"\u001b[39m\n\u001b[1;32m-> 1305\u001b[0m     \u001b[38;5;28;01mraise\u001b[39;00m \u001b[38;5;167;01mKeyboardInterrupt\u001b[39;00m(msg) \u001b[38;5;28;01mfrom\u001b[39;00m \u001b[38;5;28;01mNone\u001b[39;00m\n\u001b[0;32m   1306\u001b[0m \u001b[38;5;28;01mexcept\u001b[39;00m \u001b[38;5;167;01mException\u001b[39;00m:\n\u001b[0;32m   1307\u001b[0m     \u001b[38;5;28mself\u001b[39m\u001b[38;5;241m.\u001b[39mlog\u001b[38;5;241m.\u001b[39mwarning(\u001b[38;5;124m\"\u001b[39m\u001b[38;5;124mInvalid Message:\u001b[39m\u001b[38;5;124m\"\u001b[39m, exc_info\u001b[38;5;241m=\u001b[39m\u001b[38;5;28;01mTrue\u001b[39;00m)\n",
      "\u001b[1;31mKeyboardInterrupt\u001b[0m: Interrupted by user"
     ]
    }
   ],
   "source": [
    "while True:\n",
    "    print('how many times you wins' + str(wins))\n",
    "    print('how many times you losses' + str(losses))\n",
    "    print('how many times you ties' +str(ties))\n",
    "\n",
    "   \n",
    "    print(\"Enter your movement: (r)ock (p)aper (s)cissors or q is quit\")\n",
    "    yourmove = input()\n",
    "    if yourmove =='q':\n",
    "        sys.exit()\n",
    "    if yourmove == 'r' or yourmove =='p' or yourmove =='s':\n",
    "        print('You are good')\n",
    "\n",
    "        print('type one of r,p,s, or q')\n",
    "\n",
    "    if yourmove =='r':\n",
    "        print ('Rock versus')\n",
    "    elif yourmove =='s':\n",
    "        print ('Scissors versus')\n",
    "    elif yourmove =='p':\n",
    "        print ('Paper versus')\n",
    "\n",
    "    randomnum = random.randint(1,3)\n",
    "\n",
    "    if randomnum ==1:\n",
    "        computermove = 'r'\n",
    "    elif randomnum ==2:\n",
    "        computermove = 's'\n",
    "    elif randomnum ==3:\n",
    "        computermove = 'p'\n",
    "\n",
    "    if yourmove == computermove:\n",
    "        print(\"Tie\")\n",
    "        ties = ties+1\n",
    "    elif yourmove =='r' and computermove =='s':\n",
    "        print('You win')\n",
    "        wins = wins+1\n",
    "    elif yourmove =='r' and computermove =='p':\n",
    "        print('You lose')\n",
    "        losses = losses+1\n",
    "    elif yourmove =='s' and computermove =='r':\n",
    "        print('You lose')\n",
    "        losses = losses+1\n",
    "    elif yourmove =='s' and computermove =='p':\n",
    "        print('You win')\n",
    "        wins = wins+1\n",
    "    elif yourmove =='p' and computermove =='r':\n",
    "        print('You win')\n",
    "        wins = wins+1\n",
    "    elif yourmove =='p' and computermove =='s':\n",
    "        print('You lose')\n",
    "        losses = losses+1\n",
    "        "
   ]
  },
  {
   "cell_type": "code",
   "execution_count": null,
   "id": "6eafc3c8-0802-4b50-82c2-eb2185124026",
   "metadata": {},
   "outputs": [],
   "source": []
  }
 ],
 "metadata": {
  "kernelspec": {
   "display_name": "Python [conda env:base] *",
   "language": "python",
   "name": "conda-base-py"
  },
  "language_info": {
   "codemirror_mode": {
    "name": "ipython",
    "version": 3
   },
   "file_extension": ".py",
   "mimetype": "text/x-python",
   "name": "python",
   "nbconvert_exporter": "python",
   "pygments_lexer": "ipython3",
   "version": "3.12.7"
  }
 },
 "nbformat": 4,
 "nbformat_minor": 5
}
