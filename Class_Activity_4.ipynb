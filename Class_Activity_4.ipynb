{
 "cells": [
  {
   "cell_type": "code",
   "execution_count": null,
   "id": "5817437d-18ce-479f-a35e-75d39065cc7d",
   "metadata": {},
   "outputs": [],
   "source": []
  },
  {
   "cell_type": "code",
   "execution_count": null,
   "id": "b4104acc-bb36-4f67-995c-0c13282ef299",
   "metadata": {},
   "outputs": [],
   "source": []
  },
  {
   "cell_type": "code",
   "execution_count": 1,
   "id": "fa1b2396-9895-4642-a6f0-7021af52d861",
   "metadata": {},
   "outputs": [
    {
     "name": "stdout",
     "output_type": "stream",
     "text": [
      "i is 1 k is 1 results = 1\n",
      "i is 1 k is 2 results = 2\n",
      "i is 1 k is 3 results = 3\n",
      "i is 1 k is 4 results = 4\n",
      "i is 1 k is 5 results = 5\n",
      "i is 1 k is 6 results = 6\n",
      "i is 1 k is 7 results = 7\n",
      "i is 1 k is 8 results = 8\n",
      "i is 1 k is 9 results = 9\n",
      "i is 2 k is 1 results = 2\n",
      "i is 2 k is 2 results = 4\n",
      "i is 2 k is 3 results = 6\n",
      "i is 2 k is 4 results = 8\n",
      "i is 2 k is 5 results = 10\n",
      "i is 2 k is 6 results = 12\n",
      "i is 2 k is 7 results = 14\n",
      "i is 2 k is 8 results = 16\n",
      "i is 2 k is 9 results = 18\n",
      "i is 3 k is 1 results = 3\n",
      "i is 3 k is 2 results = 6\n",
      "i is 3 k is 3 results = 9\n",
      "i is 3 k is 4 results = 12\n",
      "i is 3 k is 5 results = 15\n",
      "i is 3 k is 6 results = 18\n",
      "i is 3 k is 7 results = 21\n",
      "i is 3 k is 8 results = 24\n",
      "i is 3 k is 9 results = 27\n",
      "i is 4 k is 1 results = 4\n",
      "i is 4 k is 2 results = 8\n",
      "i is 4 k is 3 results = 12\n",
      "i is 4 k is 4 results = 16\n",
      "i is 4 k is 5 results = 20\n",
      "i is 4 k is 6 results = 24\n",
      "i is 4 k is 7 results = 28\n",
      "i is 4 k is 8 results = 32\n",
      "i is 4 k is 9 results = 36\n",
      "i is 5 k is 1 results = 5\n",
      "i is 6 k is 1 results = 6\n",
      "i is 6 k is 2 results = 12\n",
      "i is 6 k is 3 results = 18\n",
      "i is 6 k is 4 results = 24\n",
      "i is 6 k is 5 results = 30\n",
      "i is 6 k is 6 results = 36\n",
      "i is 6 k is 7 results = 42\n",
      "i is 6 k is 8 results = 48\n",
      "i is 6 k is 9 results = 54\n",
      "i is 7 k is 1 results = 7\n",
      "i is 7 k is 2 results = 14\n",
      "i is 7 k is 3 results = 21\n",
      "i is 7 k is 4 results = 28\n",
      "i is 7 k is 5 results = 35\n",
      "i is 7 k is 6 results = 42\n",
      "i is 7 k is 7 results = 49\n",
      "i is 7 k is 8 results = 56\n",
      "i is 7 k is 9 results = 63\n",
      "i is 8 k is 1 results = 8\n",
      "i is 8 k is 2 results = 16\n",
      "i is 8 k is 3 results = 24\n",
      "i is 8 k is 4 results = 32\n",
      "i is 8 k is 5 results = 40\n",
      "i is 8 k is 6 results = 48\n",
      "i is 8 k is 7 results = 56\n",
      "i is 8 k is 8 results = 64\n",
      "i is 8 k is 9 results = 72\n",
      "i is 9 k is 1 results = 9\n",
      "i is 9 k is 2 results = 18\n",
      "i is 9 k is 3 results = 27\n",
      "i is 9 k is 4 results = 36\n",
      "i is 9 k is 5 results = 45\n",
      "i is 9 k is 6 results = 54\n",
      "i is 9 k is 7 results = 63\n",
      "i is 9 k is 8 results = 72\n",
      "i is 9 k is 9 results = 81\n"
     ]
    }
   ],
   "source": [
    "for i in range(1,10):\n",
    "    if i ==5:\n",
    "        break\n",
    "        \n",
    "    for k in range(1,10):\n",
    "        print(\"i is\", i, \"k is\", k, \"results =\", i*k)\n",
    "\n",
    "    if i ==5:\n",
    "        break"
   ]
  },
  {
   "cell_type": "code",
   "execution_count": 1,
   "id": "8b0afe1e-493a-4219-a94b-2cd57cedb12d",
   "metadata": {},
   "outputs": [
    {
     "name": "stdout",
     "output_type": "stream",
     "text": [
      "90\n"
     ]
    }
   ],
   "source": [
    "def spam():\n",
    "    eggs = 90\n",
    "    bacon() # it will call bacon function\n",
    "\n",
    "\n",
    "    print(eggs)\n",
    "\n",
    "def bacon():\n",
    "    ham = 101\n",
    "    eggs = 0\n",
    "\n",
    "spam()"
   ]
  },
  {
   "cell_type": "code",
   "execution_count": 5,
   "id": "9bc0d8bb-ef2b-4e19-9c4f-fc922cc5f95c",
   "metadata": {},
   "outputs": [
    {
     "name": "stdout",
     "output_type": "stream",
     "text": [
      "42\n",
      "10\n"
     ]
    }
   ],
   "source": [
    "def spam():\n",
    "    print(eggs)\n",
    "\n",
    "eggs = 42\n",
    "spam()\n",
    "\n",
    "eggs=10\n",
    "print(eggs)"
   ]
  },
  {
   "cell_type": "code",
   "execution_count": 7,
   "id": "cbed444e-7661-4dd1-9dce-fbf6a4ef7da9",
   "metadata": {},
   "outputs": [
    {
     "name": "stdout",
     "output_type": "stream",
     "text": [
      "21.0\n",
      "3.5\n",
      "Error You cannot divide something by zero\n",
      "0\n",
      "42.0\n"
     ]
    }
   ],
   "source": [
    "def spam(num):\n",
    "    result = 0\n",
    "    try:\n",
    "        result = 42/num\n",
    "    except:\n",
    "        print(\"Error\", \"You cannot divide something by zero\")\n",
    "    return result\n",
    "            \n",
    "print(spam(2))\n",
    "print(spam(12))\n",
    "print(spam(0))\n",
    "print(spam(1))\n"
   ]
  },
  {
   "cell_type": "code",
   "execution_count": 11,
   "id": "665ffbe9-4368-43fc-ac10-dd9916feb520",
   "metadata": {},
   "outputs": [
    {
     "name": "stdin",
     "output_type": "stream",
     "text": [
      "Enter one integer whatever you want 50\n"
     ]
    },
    {
     "name": "stdout",
     "output_type": "stream",
     "text": [
      "25.0\n",
      "76.0\n",
      "38.0\n",
      "19.0\n",
      "58.0\n",
      "29.0\n",
      "88.0\n",
      "44.0\n",
      "22.0\n",
      "11.0\n",
      "34.0\n",
      "17.0\n",
      "52.0\n",
      "26.0\n",
      "13.0\n",
      "40.0\n",
      "20.0\n",
      "10.0\n",
      "5.0\n",
      "16.0\n",
      "8.0\n",
      "4.0\n",
      "2.0\n",
      "1.0\n"
     ]
    }
   ],
   "source": [
    "def collatz(num):\n",
    "    if num % 2 ==0:\n",
    "        result = num/2\n",
    "    else:\n",
    "        result = (3*num) +1\n",
    "    print(result)\n",
    "    return result\n",
    "\n",
    "try:\n",
    "    num = int(input(\"Enter one integer whatever you want\"))\n",
    "    while num !=1:\n",
    "         num = collatz(num)\n",
    "except:\n",
    "    print(\"Invalid Value\")"
   ]
  },
  {
   "cell_type": "code",
   "execution_count": null,
   "id": "056f86f5-16e8-4503-a11a-36783fdfbc89",
   "metadata": {},
   "outputs": [],
   "source": []
  }
 ],
 "metadata": {
  "kernelspec": {
   "display_name": "Python [conda env:base] *",
   "language": "python",
   "name": "conda-base-py"
  },
  "language_info": {
   "codemirror_mode": {
    "name": "ipython",
    "version": 3
   },
   "file_extension": ".py",
   "mimetype": "text/x-python",
   "name": "python",
   "nbconvert_exporter": "python",
   "pygments_lexer": "ipython3",
   "version": "3.12.7"
  }
 },
 "nbformat": 4,
 "nbformat_minor": 5
}
