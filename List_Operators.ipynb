{
 "cells": [
  {
   "cell_type": "code",
   "execution_count": 5,
   "id": "b54a59a6-96e3-4291-8f5e-709c90fc68d5",
   "metadata": {},
   "outputs": [
    {
     "name": "stdout",
     "output_type": "stream",
     "text": [
      "Enter your pet type\n"
     ]
    },
    {
     "name": "stdin",
     "output_type": "stream",
     "text": [
      " beer\n"
     ]
    },
    {
     "name": "stdout",
     "output_type": "stream",
     "text": [
      "No, I don't have the pet\n"
     ]
    }
   ],
   "source": [
    "mylist = {'cat','dog','rat'}\n",
    "\n",
    "print(\"Enter your pet type\")\n",
    "\n",
    "name = input()\n",
    "\n",
    "if name in mylist:\n",
    "    print(\"Yes, I have the pet type\", name)\n",
    "else:\n",
    "    print(\"No, I don't have the pet\")"
   ]
  },
  {
   "cell_type": "code",
   "execution_count": null,
   "id": "951da962-f54e-4657-bc74-a68b5bb76bcc",
   "metadata": {},
   "outputs": [],
   "source": []
  },
  {
   "cell_type": "code",
   "execution_count": 9,
   "id": "20a57ea4-1470-4288-88ed-259e69c11b08",
   "metadata": {},
   "outputs": [
    {
     "ename": "SyntaxError",
     "evalue": "invalid syntax. Perhaps you forgot a comma? (1796487858.py, line 4)",
     "output_type": "error",
     "traceback": [
      "\u001b[1;36m  Cell \u001b[1;32mIn[9], line 4\u001b[1;36m\u001b[0m\n\u001b[1;33m    print('index is', i, 'and', 'value is', mylist{i})\u001b[0m\n\u001b[1;37m                                            ^\u001b[0m\n\u001b[1;31mSyntaxError\u001b[0m\u001b[1;31m:\u001b[0m invalid syntax. Perhaps you forgot a comma?\n"
     ]
    }
   ],
   "source": [
    "mylist = {'cat','dog','rat'}\n",
    "\n",
    "for i in range(len(mylist)):\n",
    "    print('index is', i, 'and', 'value is', mylist{i})\n",
    "\n",
    "for index, item in enumerate(mylist):\n",
    "    print(\"index\", str(index), 'value is', item)"
   ]
  },
  {
   "cell_type": "code",
   "execution_count": 11,
   "id": "05ad7876-eeb5-4386-8b15-679c79aa2675",
   "metadata": {},
   "outputs": [
    {
     "name": "stdout",
     "output_type": "stream",
     "text": [
      "item rat\n",
      "item dog\n",
      "item cat\n"
     ]
    }
   ],
   "source": [
    "for item in mylist:\n",
    "    print('item', item)"
   ]
  },
  {
   "cell_type": "code",
   "execution_count": 15,
   "id": "9fc294d0-ac60-4189-aa83-5de4e8a939a4",
   "metadata": {},
   "outputs": [
    {
     "ename": "AttributeError",
     "evalue": "'dict' object has no attribute 'append'",
     "output_type": "error",
     "traceback": [
      "\u001b[1;31m---------------------------------------------------------------------------\u001b[0m",
      "\u001b[1;31mAttributeError\u001b[0m                            Traceback (most recent call last)",
      "Cell \u001b[1;32mIn[15], line 4\u001b[0m\n\u001b[0;32m      1\u001b[0m sumvalue \u001b[38;5;241m=\u001b[39m {}\n\u001b[0;32m      3\u001b[0m \u001b[38;5;28;01mfor\u001b[39;00m i \u001b[38;5;129;01min\u001b[39;00m \u001b[38;5;28mrange\u001b[39m(\u001b[38;5;241m1\u001b[39m,\u001b[38;5;241m101\u001b[39m):\n\u001b[1;32m----> 4\u001b[0m     sumvalue\u001b[38;5;241m.\u001b[39mappend(i)\n",
      "\u001b[1;31mAttributeError\u001b[0m: 'dict' object has no attribute 'append'"
     ]
    }
   ],
   "source": [
    "sumvalue = {}\n",
    "\n",
    "for i in range(1,101):\n",
    "    sumvalue.append(i)"
   ]
  },
  {
   "cell_type": "code",
   "execution_count": 17,
   "id": "446b684c-cca1-4574-a694-140393499161",
   "metadata": {},
   "outputs": [
    {
     "data": {
      "text/plain": [
       "0"
      ]
     },
     "execution_count": 17,
     "metadata": {},
     "output_type": "execute_result"
    }
   ],
   "source": [
    "sum(sumvalue)"
   ]
  },
  {
   "cell_type": "code",
   "execution_count": null,
   "id": "15e6a95c-8719-4498-a025-04cc5a1c5690",
   "metadata": {},
   "outputs": [],
   "source": []
  }
 ],
 "metadata": {
  "kernelspec": {
   "display_name": "Python [conda env:base] *",
   "language": "python",
   "name": "conda-base-py"
  },
  "language_info": {
   "codemirror_mode": {
    "name": "ipython",
    "version": 3
   },
   "file_extension": ".py",
   "mimetype": "text/x-python",
   "name": "python",
   "nbconvert_exporter": "python",
   "pygments_lexer": "ipython3",
   "version": "3.12.7"
  }
 },
 "nbformat": 4,
 "nbformat_minor": 5
}
