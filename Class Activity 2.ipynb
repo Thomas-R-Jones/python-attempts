{
 "cells": [
  {
   "cell_type": "code",
   "execution_count": 3,
   "id": "ed6dc0ee-94f4-49d6-bdc8-1cba51ee4024",
   "metadata": {},
   "outputs": [
    {
     "name": "stdout",
     "output_type": "stream",
     "text": [
      "True\n",
      "True\n",
      "False\n"
     ]
    }
   ],
   "source": [
    "print(42==42)\n",
    "print(42!='42')\n",
    "print(42 == '42')"
   ]
  },
  {
   "cell_type": "code",
   "execution_count": 5,
   "id": "54e186e8-68dc-4e9f-9951-345ae5b646dd",
   "metadata": {},
   "outputs": [
    {
     "data": {
      "text/plain": [
       "False"
      ]
     },
     "execution_count": 5,
     "metadata": {},
     "output_type": "execute_result"
    }
   ],
   "source": [
    "(5<6) and (6<5)"
   ]
  },
  {
   "cell_type": "code",
   "execution_count": 7,
   "id": "100427a6-c60a-4589-81ef-bcd631cf856f",
   "metadata": {},
   "outputs": [
    {
     "data": {
      "text/plain": [
       "False"
      ]
     },
     "execution_count": 7,
     "metadata": {},
     "output_type": "execute_result"
    }
   ],
   "source": [
    "(7<6) and (6<5)"
   ]
  },
  {
   "cell_type": "code",
   "execution_count": 76,
   "id": "b29673a7-7543-4693-832e-434d5df4b2de",
   "metadata": {},
   "outputs": [
    {
     "name": "stdin",
     "output_type": "stream",
     "text": [
      " apple\n",
      " apple2\n"
     ]
    },
    {
     "name": "stdout",
     "output_type": "stream",
     "text": [
      "ID is correct\n",
      "Password is not correct\n"
     ]
    }
   ],
   "source": [
    "ID = input()\n",
    "Password = input()\n",
    "\n",
    "if ID == 'apple':\n",
    "    print('ID is correct')\n",
    "    if Password == 'apple1':\n",
    "        print(\"Password is correct\")\n",
    "    else:\n",
    "        print(\"Password is not correct\")"
   ]
  },
  {
   "cell_type": "code",
   "execution_count": 70,
   "id": "0e38b90b-2c68-4776-9d75-199573b8467d",
   "metadata": {},
   "outputs": [
    {
     "name": "stdin",
     "output_type": "stream",
     "text": [
      " 100\n"
     ]
    },
    {
     "name": "stdout",
     "output_type": "stream",
     "text": [
      "Your score  100\n",
      "Your grade is A\n"
     ]
    }
   ],
   "source": [
    "score = input()\n",
    "score = int(score)\n",
    "print(\"Your score \", score)\n",
    "\n",
    "if score > 90:\n",
    "    print(\"Your grade is A\")\n",
    "elif score > 80:\n",
    "    print(\"Your grade is B\")\n",
    "elif score > 70:\n",
    "    print(\"Your grade is C\")\n",
    "else:\n",
    "    print(\"Your grade is D\")\n",
    "\n"
   ]
  },
  {
   "cell_type": "code",
   "execution_count": null,
   "id": "fd69cfd9-d879-4099-b32b-1dd1d249cf28",
   "metadata": {},
   "outputs": [],
   "source": []
  },
  {
   "cell_type": "code",
   "execution_count": null,
   "id": "abac258b-c1cf-4a10-8ff9-ebb7f2217278",
   "metadata": {},
   "outputs": [],
   "source": []
  },
  {
   "cell_type": "code",
   "execution_count": null,
   "id": "9daf67b6-cb23-48c9-9d05-68111ff08f52",
   "metadata": {},
   "outputs": [],
   "source": []
  },
  {
   "cell_type": "code",
   "execution_count": null,
   "id": "d565f7f2-36aa-4e7d-a799-8892ce4707a0",
   "metadata": {},
   "outputs": [],
   "source": []
  },
  {
   "cell_type": "code",
   "execution_count": null,
   "id": "a7f96d09-b77b-4982-9835-8091f933fcf8",
   "metadata": {},
   "outputs": [],
   "source": []
  },
  {
   "cell_type": "code",
   "execution_count": null,
   "id": "08af1cb2-c9d8-4066-9ceb-7d91072b5b79",
   "metadata": {},
   "outputs": [],
   "source": []
  },
  {
   "cell_type": "code",
   "execution_count": null,
   "id": "a41cc270-9b8e-4a10-9570-851a9f1a8862",
   "metadata": {},
   "outputs": [],
   "source": []
  },
  {
   "cell_type": "code",
   "execution_count": null,
   "id": "42c66337-d48a-43ca-b32a-5b044eb26956",
   "metadata": {},
   "outputs": [],
   "source": []
  },
  {
   "cell_type": "code",
   "execution_count": null,
   "id": "4707dd3c-292b-4f71-9e46-8e07e6f012b8",
   "metadata": {},
   "outputs": [],
   "source": []
  },
  {
   "cell_type": "code",
   "execution_count": null,
   "id": "cf508e63-49ee-45b4-8985-f606cdb44afc",
   "metadata": {},
   "outputs": [],
   "source": []
  },
  {
   "cell_type": "code",
   "execution_count": null,
   "id": "73edd647-c573-44d4-ad99-058d035e706e",
   "metadata": {},
   "outputs": [],
   "source": []
  },
  {
   "cell_type": "code",
   "execution_count": null,
   "id": "7b96f8d2-42e8-43b8-9701-7982120b098b",
   "metadata": {},
   "outputs": [],
   "source": []
  },
  {
   "cell_type": "code",
   "execution_count": null,
   "id": "78f8b8e6-34c3-4a0e-bba9-313fe8a50f44",
   "metadata": {},
   "outputs": [],
   "source": []
  },
  {
   "cell_type": "code",
   "execution_count": null,
   "id": "2166b5cf-216f-47fc-9384-55d50f868177",
   "metadata": {},
   "outputs": [],
   "source": []
  },
  {
   "cell_type": "code",
   "execution_count": null,
   "id": "62e6937d-dcf8-462f-bb88-f04beaba38df",
   "metadata": {},
   "outputs": [],
   "source": []
  },
  {
   "cell_type": "code",
   "execution_count": null,
   "id": "3ed9aaf7-4d59-4503-919a-b456818cf82b",
   "metadata": {},
   "outputs": [],
   "source": []
  },
  {
   "cell_type": "code",
   "execution_count": null,
   "id": "40d25aca-2b11-4522-8be2-c8a100f03136",
   "metadata": {},
   "outputs": [],
   "source": []
  },
  {
   "cell_type": "code",
   "execution_count": null,
   "id": "e760e253-43e6-47f1-86d1-dc673df1aa89",
   "metadata": {},
   "outputs": [],
   "source": []
  },
  {
   "cell_type": "code",
   "execution_count": null,
   "id": "838adf5a-e404-4ee9-acea-dcbf783506fa",
   "metadata": {},
   "outputs": [],
   "source": []
  },
  {
   "cell_type": "code",
   "execution_count": null,
   "id": "ba3e26c8-97f1-441f-b25c-1ce8d15bf536",
   "metadata": {},
   "outputs": [],
   "source": []
  }
 ],
 "metadata": {
  "kernelspec": {
   "display_name": "Python [conda env:base] *",
   "language": "python",
   "name": "conda-base-py"
  },
  "language_info": {
   "codemirror_mode": {
    "name": "ipython",
    "version": 3
   },
   "file_extension": ".py",
   "mimetype": "text/x-python",
   "name": "python",
   "nbconvert_exporter": "python",
   "pygments_lexer": "ipython3",
   "version": "3.12.7"
  }
 },
 "nbformat": 4,
 "nbformat_minor": 5
}
